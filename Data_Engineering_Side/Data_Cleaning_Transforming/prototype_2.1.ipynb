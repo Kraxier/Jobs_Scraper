{
 "cells": [
  {
   "cell_type": "code",
   "execution_count": null,
   "id": "b43425a6",
   "metadata": {},
   "outputs": [
    {
     "name": "stdout",
     "output_type": "stream",
     "text": [
      "                                          Role of Job  \\\n",
      "5                 Automation Engineer (UiPath) - 6290   \n",
      "11                                Automation Engineer   \n",
      "13                       System (Automation) Engineer   \n",
      "14                Robotic Process Automation Engineer   \n",
      "21               Project Engineer Cavite, Philippines   \n",
      "27  Automation Assistant Engineer (ME, Mechatronic...   \n",
      "33                Energy Management System Specialist   \n",
      "36                Automation Engineer (UiPath) - 6290   \n",
      "41                         Senior Automation Engineer   \n",
      "42                                Automation Engineer   \n",
      "\n",
      "                               Company Name             Company Location  \\\n",
      "5   Cambridge University Press & Assessment         Manila, Metro Manila   \n",
      "11                           Acbel PolyTech     Calamba City, Calabarzon   \n",
      "13                       Icontroltech, Inc.  Marikina City, Metro Manila   \n",
      "14                                      NaN    Makati City, Metro Manila   \n",
      "21                                 Unilever   Ayos Lomboy, Central Luzon   \n",
      "27                                  Sercomm     Calamba City, Calabarzon   \n",
      "33                             AboitizPower            Dumaguete, Negros   \n",
      "36  Cambridge University Press & Assessment         Manila, Metro Manila   \n",
      "41                         ONIS Corporation       San Juan, Metro Manila   \n",
      "42                 Tyler Technologies, Inc.         Manila, Metro Manila   \n",
      "\n",
      "   Type of Work                                        Description  \\\n",
      "5           NaN  work setup: hybrid (open to 2x a week in the o...   \n",
      "11          NaN  about the role\\n\\njoin acbel polytech (phils.)...   \n",
      "13          NaN  designing and developing robust and efficient ...   \n",
      "14          NaN  key responsibilities\\n1. automation implementa...   \n",
      "21       Hybrid  job title: project engineerlocation: philippin...   \n",
      "27       Hybrid  job summary:\\n\\nthe automation robot engineer ...   \n",
      "33          NaN  position summary:this position holder is respo...   \n",
      "36          NaN  work setup: hybrid (open to 2x a week in the o...   \n",
      "41          NaN  overview:\\n\\nwe are seeking a highly skilled s...   \n",
      "42          NaN  we are seeking an experienced automation engin...   \n",
      "\n",
      "                                     extracted_skills  \n",
      "5                                             ['sis']  \n",
      "11                                     ['plc', 'sis']  \n",
      "13  ['plc', 'programmable logic controller', 'scad...  \n",
      "14                                                 []  \n",
      "21                     ['plc', 'scada', 'dcs', 'sis']  \n",
      "27                           ['plc', 'c programming']  \n",
      "33  ['plc', 'programmable logic controller', 'scad...  \n",
      "36                                            ['sis']  \n",
      "41                                                 []  \n",
      "42                                                 []  \n"
     ]
    }
   ],
   "source": [
    "import pandas as pd\n",
    "import json\n",
    "df_csv = pd.read_csv('mechatronics_jobs_2025-08-13_with_skills.csv')\n",
    "duplicates = df_csv.duplicated()\n",
    "duplicate_rows = df_csv[df_csv.duplicated()]\n",
    "print(duplicate_rows.head(10))\n",
    "\n"
   ]
  }
 ],
 "metadata": {
  "kernelspec": {
   "display_name": "Python 3",
   "language": "python",
   "name": "python3"
  },
  "language_info": {
   "codemirror_mode": {
    "name": "ipython",
    "version": 3
   },
   "file_extension": ".py",
   "mimetype": "text/x-python",
   "name": "python",
   "nbconvert_exporter": "python",
   "pygments_lexer": "ipython3",
   "version": "3.12.3"
  }
 },
 "nbformat": 4,
 "nbformat_minor": 5
}
